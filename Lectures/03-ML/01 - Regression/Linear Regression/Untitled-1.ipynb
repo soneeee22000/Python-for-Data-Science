{
 "cells": [
  {
   "cell_type": "code",
   "execution_count": 20,
   "metadata": {},
   "outputs": [],
   "source": [
    "'''first attribute will be in the self () and second attribute will be assigned to according to colors which means when called self.color , \n",
    "self.price will be raised promptly'''\n",
    "\n",
    "class Candy():\n",
    "    def __init__(self,color):\n",
    "        self.color = color \n",
    "        if self.color == 'red':\n",
    "            self.price = 2\n",
    "        elif self.color == 'blue':\n",
    "            self.price = 4\n",
    "        else:\n",
    "            self.price = 0 \n",
    "            \n",
    "    def __str__(self):# this method can help you when automatically since there's only self as an attribute in it ! \n",
    "    #so when it's called it will automically print out this f-string ! \n",
    "        return f\"{self.color} candy cost {self.price} baht\" "
   ]
  },
  {
   "cell_type": "code",
   "execution_count": 21,
   "metadata": {},
   "outputs": [
    {
     "name": "stdout",
     "output_type": "stream",
     "text": [
      "red candy cost 2 baht\n"
     ]
    }
   ],
   "source": [
    "red_candy = Candy('red') \n",
    "print(red_candy) "
   ]
  },
  {
   "cell_type": "code",
   "execution_count": 22,
   "metadata": {},
   "outputs": [],
   "source": [
    "import matplotlib as plt\n",
    "# candybasket which we will put candies in ! methods and funciton \n",
    "\n",
    "# WE GONNNA USE THIS CandyBasket() with all these methods and functions and later use this class to create another two objects and we are gonna use the class functions and methods !\n",
    "# so we are goona create a whole class first \n",
    "\n",
    "\n",
    "#add 3 Red candies and 3 Yellow candies into Basket1 and add 3 Blue candies into Basket2.\n",
    "# Please print out the number of candies in Basket1 and Basket2\n",
    "#plot bar grap out the content of Bakset1 and basekt2 let import so we dont forget\n",
    "#remove 2 yelllow candies from basket1 \n",
    "#transfer a Purple candy from Basket2 to Basket1 (it should give you an error). and transfer 2 Red candies from Basket1 to Basket2. (20 points)\n",
    "# print taotal number of candies in Bakst 1 basket 2 \n",
    "\n",
    "\n",
    "\n",
    "\n",
    "\n",
    "# our mother class must have adding candies function we can recall \n",
    "'''so we have to relate to it back append it '''\n",
    "'''adding we always need to create an empty list ''' \n",
    "#len function that will pribnt out the number of cnadies in the basket \n",
    "\"len and print the outcome easy\"\n",
    "# str fucniton that will allwo you to print our the content of the basket # fstring when called \n",
    "'''f string '''\n",
    "#create a funciton that olot a bar plot to show the number of candie of each color \n",
    "'''will implement matplotlib plot funcitons inside it '''\n",
    "#for removing a candy from the basket you shoudl be able to choose which candy to remove !\n",
    "''' if he wants it drop he said drop by remove there's definitely a remove fucntion in python ! '''\n",
    "# trransfer a specifiec color of candy from one basket to another \n",
    "''' raise error if not present color value error '''\n",
    "#calculate the total price of all candies in your basket \n",
    "'''we sure have to create an empty list \n",
    "list are good since we can append arrays into them and call the indexes out ! '''\n",
    "\n",
    "# \n",
    "class CandyBasket(): \n",
    "    def __init__(self):\n",
    "        self.basket = []\n",
    "        self.all_color=[]\n",
    "\n",
    "    def __len__(self):\n",
    "        return print(len(self))\n",
    "    def __str__(self):\n",
    "        return f\"{[candy.color for candy in self.basket]}\n",
    "    \n",
    "    def add(self,color,amount):\n",
    "        if color not in self.all_color:\n",
    "            self.all_color.append(color)\n",
    "        for i in range(amount):\n",
    "            candy_i  = Candy(color)\n",
    "            self.basket.append(candy_i)\n",
    "        print(f\"Added {amount} {color} candy\")\n",
    "\n",
    "    def remove_candy(self, color):\n",
    "        if color not in self.all_color:\n",
    "            raise ValueError(f\"{color} candy is not in basket\")\n",
    "        else: \n",
    "            for candy in self.basket:\n",
    "                if candy.color == color:\n",
    "                    self.basket.remove(candy)\n",
    "                    print(f\"{color} candy removed !\")\n",
    "                    break \n",
    "\n",
    "    def transfer(self,receiver, color):\n",
    "        if color not in self.all_color:\n",
    "            raise ValueError(f'{color} candy not in the basket')\n",
    "        else:\n",
    "            for candy in self.basket:\n",
    "                if candy.color == color:\n",
    "                    self.remove_candy(color)\n",
    "                    receiver.add(color,1)\n",
    "                    break\n",
    "\n",
    "    def total(self,):\n",
    "        total = 0 \n",
    "        for candy in self.basket:\n",
    "            total += candy.price\n",
    "        return total \n",
    "    \n",
    "    def plot(self):\n",
    "        counts = [0]* len(self.all_color) \n",
    "        for i, color in enumerate(self.all_color):\n",
    "            for candy in self.basket:\n",
    "                if candy.color == color:\n",
    "                    counts[i] += 1\n",
    "        plt.bar(self.all_color, counts, width = 0.8)\n",
    "        plt.show()\n",
    "    \n",
    "\n",
    "# Basket1 basket2 \n",
    "\n",
    "#basket[]\n"
   ]
  },
  {
   "cell_type": "code",
   "execution_count": 24,
   "metadata": {},
   "outputs": [
    {
     "name": "stdout",
     "output_type": "stream",
     "text": [
      "Added 3 red candy\n",
      "Added 3 yellow candy\n",
      "Added 3 blue candy\n",
      "====================\n"
     ]
    },
    {
     "ename": "RecursionError",
     "evalue": "maximum recursion depth exceeded",
     "output_type": "error",
     "traceback": [
      "\u001b[1;31m---------------------------------------------------------------------------\u001b[0m",
      "\u001b[1;31mRecursionError\u001b[0m                            Traceback (most recent call last)",
      "\u001b[1;32mUntitled-1.ipynb Cell 4\u001b[0m in \u001b[0;36m<cell line: 13>\u001b[1;34m()\u001b[0m\n\u001b[0;32m     <a href='vscode-notebook-cell:Untitled-1.ipynb?jupyter-notebook#W3sdW50aXRsZWQ%3D?line=9'>10</a>\u001b[0m \u001b[39mprint\u001b[39m(\u001b[39m\"\u001b[39m\u001b[39m=\u001b[39m\u001b[39m\"\u001b[39m\u001b[39m*\u001b[39m\u001b[39m20\u001b[39m)\n\u001b[0;32m     <a href='vscode-notebook-cell:Untitled-1.ipynb?jupyter-notebook#W3sdW50aXRsZWQ%3D?line=11'>12</a>\u001b[0m \u001b[39m# print out the number of candies in Basket1 and Basket2\u001b[39;00m\n\u001b[1;32m---> <a href='vscode-notebook-cell:Untitled-1.ipynb?jupyter-notebook#W3sdW50aXRsZWQ%3D?line=12'>13</a>\u001b[0m \u001b[39mprint\u001b[39m(\u001b[39mlen\u001b[39;49m(Basket1))\n\u001b[0;32m     <a href='vscode-notebook-cell:Untitled-1.ipynb?jupyter-notebook#W3sdW50aXRsZWQ%3D?line=13'>14</a>\u001b[0m \u001b[39mprint\u001b[39m(\u001b[39mlen\u001b[39m(Basket2))\n\u001b[0;32m     <a href='vscode-notebook-cell:Untitled-1.ipynb?jupyter-notebook#W3sdW50aXRsZWQ%3D?line=14'>15</a>\u001b[0m \u001b[39mprint\u001b[39m(\u001b[39m\"\u001b[39m\u001b[39m=\u001b[39m\u001b[39m\"\u001b[39m\u001b[39m*\u001b[39m\u001b[39m20\u001b[39m)\n",
      "\u001b[1;32mUntitled-1.ipynb Cell 4\u001b[0m in \u001b[0;36mCandyBasket.__len__\u001b[1;34m(self)\u001b[0m\n\u001b[0;32m     <a href='vscode-notebook-cell:Untitled-1.ipynb?jupyter-notebook#W3sdW50aXRsZWQ%3D?line=41'>42</a>\u001b[0m \u001b[39mdef\u001b[39;00m \u001b[39m__len__\u001b[39m(\u001b[39mself\u001b[39m):\n\u001b[1;32m---> <a href='vscode-notebook-cell:Untitled-1.ipynb?jupyter-notebook#W3sdW50aXRsZWQ%3D?line=42'>43</a>\u001b[0m     \u001b[39mreturn\u001b[39;00m \u001b[39mprint\u001b[39m(\u001b[39mlen\u001b[39;49m(\u001b[39mself\u001b[39;49m))\n",
      "\u001b[1;32mUntitled-1.ipynb Cell 4\u001b[0m in \u001b[0;36mCandyBasket.__len__\u001b[1;34m(self)\u001b[0m\n\u001b[0;32m     <a href='vscode-notebook-cell:Untitled-1.ipynb?jupyter-notebook#W3sdW50aXRsZWQ%3D?line=41'>42</a>\u001b[0m \u001b[39mdef\u001b[39;00m \u001b[39m__len__\u001b[39m(\u001b[39mself\u001b[39m):\n\u001b[1;32m---> <a href='vscode-notebook-cell:Untitled-1.ipynb?jupyter-notebook#W3sdW50aXRsZWQ%3D?line=42'>43</a>\u001b[0m     \u001b[39mreturn\u001b[39;00m \u001b[39mprint\u001b[39m(\u001b[39mlen\u001b[39;49m(\u001b[39mself\u001b[39;49m))\n",
      "    \u001b[1;31m[... skipping similar frames: CandyBasket.__len__ at line 43 (1483 times)]\u001b[0m\n",
      "\u001b[1;32mUntitled-1.ipynb Cell 4\u001b[0m in \u001b[0;36mCandyBasket.__len__\u001b[1;34m(self)\u001b[0m\n\u001b[0;32m     <a href='vscode-notebook-cell:Untitled-1.ipynb?jupyter-notebook#W3sdW50aXRsZWQ%3D?line=41'>42</a>\u001b[0m \u001b[39mdef\u001b[39;00m \u001b[39m__len__\u001b[39m(\u001b[39mself\u001b[39m):\n\u001b[1;32m---> <a href='vscode-notebook-cell:Untitled-1.ipynb?jupyter-notebook#W3sdW50aXRsZWQ%3D?line=42'>43</a>\u001b[0m     \u001b[39mreturn\u001b[39;00m \u001b[39mprint\u001b[39m(\u001b[39mlen\u001b[39;49m(\u001b[39mself\u001b[39;49m))\n",
      "\u001b[1;31mRecursionError\u001b[0m: maximum recursion depth exceeded"
     ]
    }
   ],
   "source": [
    "# create 2 objects called Basket1 and Basket2 from the CandyBasket()\n",
    "Basket1 = CandyBasket()\n",
    "Basket2 = CandyBasket()\n",
    "\n",
    "# add 3 Red candies and 3 Yellow candies into Basket1 and add 3 Blue candies into Basket2\n",
    "Basket1.add('red', 3)\n",
    "Basket1.add('yellow', 3)\n",
    "\n",
    "Basket2.add('blue', 3)\n",
    "print(\"=\"*20)\n",
    "\n",
    "# print out the number of candies in Basket1 and Basket2\n",
    "print(len(Basket1))\n",
    "print(len(Basket2))\n",
    "print(\"=\"*20)\n",
    "\n",
    "# print out the content of Basket1 and Basket2\n",
    "print(Basket1)\n",
    "print(Basket2)\n",
    "\n",
    "# plot out the content of Basket1 and Basket2\n",
    "Basket1.plot()\n",
    "Basket2.plot()\n",
    "\n"
   ]
  },
  {
   "cell_type": "code",
   "execution_count": null,
   "metadata": {},
   "outputs": [],
   "source": []
  },
  {
   "cell_type": "code",
   "execution_count": null,
   "metadata": {},
   "outputs": [],
   "source": []
  },
  {
   "cell_type": "code",
   "execution_count": null,
   "metadata": {},
   "outputs": [
    {
     "name": "stdout",
     "output_type": "stream",
     "text": [
      "(20640, 8)\n",
      "(20640,)\n",
      "['MedInc', 'HouseAge', 'AveRooms', 'AveBedrms', 'Population', 'AveOccup', 'Latitude', 'Longitude']\n"
     ]
    }
   ],
   "source": [
    "from sklearn.datasets import fetch_california_housing \n",
    "california = fetch_california_housing()\n",
    "X = california.data\n",
    "y = california.target\n",
    "\n",
    "m = X.shape[0]\n",
    "n = X.shape[1]\n",
    "print(X.shape)\n",
    "print(y.shape)\n",
    "print(california.feature_names) \n"
   ]
  },
  {
   "cell_type": "code",
   "execution_count": null,
   "metadata": {},
   "outputs": [
    {
     "ename": "AttributeError",
     "evalue": "'list' object has no attribute 'tolist'",
     "output_type": "error",
     "traceback": [
      "\u001b[1;31m---------------------------------------------------------------------------\u001b[0m",
      "\u001b[1;31mAttributeError\u001b[0m                            Traceback (most recent call last)",
      "\u001b[1;32mUntitled-1.ipynb Cell 2\u001b[0m in \u001b[0;36m<cell line: 7>\u001b[1;34m()\u001b[0m\n\u001b[0;32m      <a href='vscode-notebook-cell:Untitled-1.ipynb?jupyter-notebook#W1sdW50aXRsZWQ%3D?line=3'>4</a>\u001b[0m y_for_df \u001b[39m=\u001b[39m y\u001b[39m.\u001b[39mreshape(\u001b[39m-\u001b[39m\u001b[39m1\u001b[39m,\u001b[39m1\u001b[39m)\n\u001b[0;32m      <a href='vscode-notebook-cell:Untitled-1.ipynb?jupyter-notebook#W1sdW50aXRsZWQ%3D?line=4'>5</a>\u001b[0m all_data \u001b[39m=\u001b[39m np\u001b[39m.\u001b[39mconcatenate([X,y_for_df], axis\u001b[39m=\u001b[39m\u001b[39m1\u001b[39m)\n\u001b[1;32m----> <a href='vscode-notebook-cell:Untitled-1.ipynb?jupyter-notebook#W1sdW50aXRsZWQ%3D?line=6'>7</a>\u001b[0m columns \u001b[39m=\u001b[39m california\u001b[39m.\u001b[39;49mfeature_names\u001b[39m.\u001b[39;49mtolist() \u001b[39m+\u001b[39m [\u001b[39m'\u001b[39m\u001b[39mtarget\u001b[39m\u001b[39m'\u001b[39m]\n\u001b[0;32m      <a href='vscode-notebook-cell:Untitled-1.ipynb?jupyter-notebook#W1sdW50aXRsZWQ%3D?line=7'>8</a>\u001b[0m \u001b[39mprint\u001b[39m(columns)\n\u001b[0;32m     <a href='vscode-notebook-cell:Untitled-1.ipynb?jupyter-notebook#W1sdW50aXRsZWQ%3D?line=9'>10</a>\u001b[0m df \u001b[39m=\u001b[39m pd\u001b[39m.\u001b[39mDataFrame(data\u001b[39m=\u001b[39mall_data, columns\u001b[39m=\u001b[39mcolumns)\n",
      "\u001b[1;31mAttributeError\u001b[0m: 'list' object has no attribute 'tolist'"
     ]
    }
   ],
   "source": [
    "# feature selection and engineering \n",
    "import pandas as pd\n",
    "import numpy as np\n",
    "y_for_df = y.reshape(-1,1)\n",
    "all_data = np.concatenate([X,y_for_df], axis=1)\n",
    "\n",
    "columns = california.feature_names.tolist() + ['target']\n",
    "print(columns)\n",
    "\n",
    "df = pd.DataFrame(data=all_data, columns=columns)\n",
    "df.head()\n"
   ]
  }
 ],
 "metadata": {
  "kernelspec": {
   "display_name": "Python 3.10.7 64-bit (microsoft store)",
   "language": "python",
   "name": "python3"
  },
  "language_info": {
   "codemirror_mode": {
    "name": "ipython",
    "version": 3
   },
   "file_extension": ".py",
   "mimetype": "text/x-python",
   "name": "python",
   "nbconvert_exporter": "python",
   "pygments_lexer": "ipython3",
   "version": "3.10.7"
  },
  "orig_nbformat": 4,
  "vscode": {
   "interpreter": {
    "hash": "a59b473075a889197cef78f691a8dde253fc9cd06ebdea22432c59d124001e4e"
   }
  }
 },
 "nbformat": 4,
 "nbformat_minor": 2
}
