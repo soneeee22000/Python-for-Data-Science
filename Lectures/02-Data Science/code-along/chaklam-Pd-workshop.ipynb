{
 "cells": [
  {
   "cell_type": "markdown",
   "metadata": {},
   "source": [
    "# Programming for Data Science and Artificial Intelligence \n",
    "\n",
    "## Pandas Workshop"
   ]
  },
  {
   "cell_type": "markdown",
   "metadata": {},
   "source": [
    "### Part 1: ETL"
   ]
  },
  {
   "cell_type": "markdown",
   "metadata": {},
   "source": [
    "### 1. Import Pandas"
   ]
  },
  {
   "cell_type": "code",
   "execution_count": 128,
   "metadata": {},
   "outputs": [
    {
     "data": {
      "text/plain": [
       "'1.4.3'"
      ]
     },
     "execution_count": 128,
     "metadata": {},
     "output_type": "execute_result"
    }
   ],
   "source": [
    "import pandas as pd\n",
    "pd.__version__"
   ]
  },
  {
   "cell_type": "markdown",
   "metadata": {},
   "source": [
    "### 2. Load the csv\n",
    "- preview\n",
    "- check the data types"
   ]
  },
  {
   "cell_type": "code",
   "execution_count": 129,
   "metadata": {},
   "outputs": [
    {
     "data": {
      "text/html": [
       "<div>\n",
       "<style scoped>\n",
       "    .dataframe tbody tr th:only-of-type {\n",
       "        vertical-align: middle;\n",
       "    }\n",
       "\n",
       "    .dataframe tbody tr th {\n",
       "        vertical-align: top;\n",
       "    }\n",
       "\n",
       "    .dataframe thead th {\n",
       "        text-align: right;\n",
       "    }\n",
       "</style>\n",
       "<table border=\"1\" class=\"dataframe\">\n",
       "  <thead>\n",
       "    <tr style=\"text-align: right;\">\n",
       "      <th></th>\n",
       "      <th>Posted On</th>\n",
       "      <th>BHK</th>\n",
       "      <th>Rent</th>\n",
       "      <th>Size</th>\n",
       "      <th>Floor</th>\n",
       "      <th>Area Type</th>\n",
       "      <th>Area Locality</th>\n",
       "      <th>City</th>\n",
       "      <th>Furnishing Status</th>\n",
       "      <th>Tenant Preferred</th>\n",
       "      <th>Bathroom</th>\n",
       "      <th>Point of Contact</th>\n",
       "    </tr>\n",
       "  </thead>\n",
       "  <tbody>\n",
       "    <tr>\n",
       "      <th>0</th>\n",
       "      <td>2022-05-18</td>\n",
       "      <td>2</td>\n",
       "      <td>10000</td>\n",
       "      <td>1100</td>\n",
       "      <td>Ground out of 2</td>\n",
       "      <td>Super Area</td>\n",
       "      <td>Bandel</td>\n",
       "      <td>Kolkata</td>\n",
       "      <td>Unfurnished</td>\n",
       "      <td>Bachelors/Family</td>\n",
       "      <td>2.0</td>\n",
       "      <td>Contact Owner</td>\n",
       "    </tr>\n",
       "    <tr>\n",
       "      <th>1</th>\n",
       "      <td>2022-05-13</td>\n",
       "      <td>2</td>\n",
       "      <td>20000</td>\n",
       "      <td>800</td>\n",
       "      <td>1 out of 3</td>\n",
       "      <td>Super Area</td>\n",
       "      <td>Phool Bagan, Kankurgachi</td>\n",
       "      <td>Kolkata</td>\n",
       "      <td>Semi-Furnished</td>\n",
       "      <td>Bachelors/Family</td>\n",
       "      <td>1.0</td>\n",
       "      <td>Contact Owner</td>\n",
       "    </tr>\n",
       "    <tr>\n",
       "      <th>2</th>\n",
       "      <td>2022-05-16</td>\n",
       "      <td>2</td>\n",
       "      <td>17000</td>\n",
       "      <td>1000</td>\n",
       "      <td>1 out of 3</td>\n",
       "      <td>Super Area</td>\n",
       "      <td>Salt Lake City Sector 2</td>\n",
       "      <td>Kolkata</td>\n",
       "      <td>Semi-Furnished</td>\n",
       "      <td>Bachelors/Family</td>\n",
       "      <td>1.0</td>\n",
       "      <td>Contact Owner</td>\n",
       "    </tr>\n",
       "    <tr>\n",
       "      <th>3</th>\n",
       "      <td>2022-07-04</td>\n",
       "      <td>2</td>\n",
       "      <td>10000</td>\n",
       "      <td>800</td>\n",
       "      <td>1 out of 2</td>\n",
       "      <td>Super Area</td>\n",
       "      <td>Dumdum Park</td>\n",
       "      <td>Kolkata</td>\n",
       "      <td>Unfurnished</td>\n",
       "      <td>Bachelors/Family</td>\n",
       "      <td>1.0</td>\n",
       "      <td>Contact Owner</td>\n",
       "    </tr>\n",
       "    <tr>\n",
       "      <th>4</th>\n",
       "      <td>2022-05-09</td>\n",
       "      <td>2</td>\n",
       "      <td>7500</td>\n",
       "      <td>850</td>\n",
       "      <td>1 out of 2</td>\n",
       "      <td>Carpet Area</td>\n",
       "      <td>South Dum Dum</td>\n",
       "      <td>Kolkata</td>\n",
       "      <td>Unfurnished</td>\n",
       "      <td>Bachelors</td>\n",
       "      <td>1.0</td>\n",
       "      <td>Contact Owner</td>\n",
       "    </tr>\n",
       "  </tbody>\n",
       "</table>\n",
       "</div>"
      ],
      "text/plain": [
       "    Posted On  BHK   Rent  Size            Floor    Area Type  \\\n",
       "0  2022-05-18    2  10000  1100  Ground out of 2   Super Area   \n",
       "1  2022-05-13    2  20000   800       1 out of 3   Super Area   \n",
       "2  2022-05-16    2  17000  1000       1 out of 3   Super Area   \n",
       "3  2022-07-04    2  10000   800       1 out of 2   Super Area   \n",
       "4  2022-05-09    2   7500   850       1 out of 2  Carpet Area   \n",
       "\n",
       "              Area Locality     City Furnishing Status  Tenant Preferred  \\\n",
       "0                    Bandel  Kolkata       Unfurnished  Bachelors/Family   \n",
       "1  Phool Bagan, Kankurgachi  Kolkata    Semi-Furnished  Bachelors/Family   \n",
       "2   Salt Lake City Sector 2  Kolkata    Semi-Furnished  Bachelors/Family   \n",
       "3               Dumdum Park  Kolkata       Unfurnished  Bachelors/Family   \n",
       "4             South Dum Dum  Kolkata       Unfurnished         Bachelors   \n",
       "\n",
       "   Bathroom Point of Contact  \n",
       "0       2.0    Contact Owner  \n",
       "1       1.0    Contact Owner  \n",
       "2       1.0    Contact Owner  \n",
       "3       1.0    Contact Owner  \n",
       "4       1.0    Contact Owner  "
      ]
     },
     "execution_count": 129,
     "metadata": {},
     "output_type": "execute_result"
    }
   ],
   "source": [
    "df = pd.read_csv('houserent.csv')\n",
    "df.head()\n",
    "\n",
    "#i will later drop these columns:\n",
    "#Posted On, Point of Contact"
   ]
  },
  {
   "cell_type": "code",
   "execution_count": 130,
   "metadata": {},
   "outputs": [
    {
     "name": "stdout",
     "output_type": "stream",
     "text": [
      "<class 'pandas.core.frame.DataFrame'>\n",
      "RangeIndex: 4746 entries, 0 to 4745\n",
      "Data columns (total 12 columns):\n",
      " #   Column             Non-Null Count  Dtype  \n",
      "---  ------             --------------  -----  \n",
      " 0   Posted On          4746 non-null   object \n",
      " 1   BHK                4746 non-null   int64  \n",
      " 2   Rent               4746 non-null   int64  \n",
      " 3   Size               4746 non-null   int64  \n",
      " 4   Floor              4746 non-null   object \n",
      " 5   Area Type          4746 non-null   object \n",
      " 6   Area Locality      4746 non-null   object \n",
      " 7   City               4746 non-null   object \n",
      " 8   Furnishing Status  4746 non-null   object \n",
      " 9   Tenant Preferred   4746 non-null   object \n",
      " 10  Bathroom           4739 non-null   float64\n",
      " 11  Point of Contact   4746 non-null   object \n",
      "dtypes: float64(1), int64(3), object(8)\n",
      "memory usage: 445.1+ KB\n"
     ]
    }
   ],
   "source": [
    "df.info()\n",
    "\n",
    "#mindful of type \"object\" because ML models cannot use them"
   ]
  },
  {
   "cell_type": "markdown",
   "metadata": {},
   "source": [
    "### Part II. EDA\n",
    "\n",
    "13:17 - 14:20 ( 1 hour )\n",
    "\n",
    "- use `describe()`\n",
    "- plot some countplot, distplot, scatterplot, boxplot\n",
    "- **try to tell me which features are promising to predict rent**\n",
    "- try to use masking (as a practice)\n",
    "- try `df['City'].value_counts()`\n",
    "- try `.unique()`\n",
    "- try `sns.pairplot(df)`; this will print all possible plots which take time; if your PC is slow, don't run...\n",
    "- try `sns.heatmap(df.corr(), annot=True)` but remind that it only does correlation for continuous features/labels\n",
    "- try `plotly` and try `sunburst` - sankey diagram.....\n",
    "- try to group size into very small (0), 3, very large (5)\n",
    "  - can use median() as the middle pivot\n",
    "  - can use median() - std() as the pivot between 0 and 1\n",
    "- try to drop some rows, having abnormal numbers like Rent\n",
    "  - df.drop([index(es)], axis=0, inplace=True)\n",
    "  - axis = 0 means row; axis = 1 means columns\n",
    "  - e.g., indexes ==> [5, 33, 22]  ==> use `np.where(df['Rent'] > 1000000000)`\n",
    "- they try to look at the row - `df.iloc[rownum]`\n",
    "\n",
    "**Last: for those who finished, share your top 3 features you think is good for predicting rent**"
   ]
  },
  {
   "cell_type": "code",
   "execution_count": 131,
   "metadata": {},
   "outputs": [
    {
     "data": {
      "text/html": [
       "<div>\n",
       "<style scoped>\n",
       "    .dataframe tbody tr th:only-of-type {\n",
       "        vertical-align: middle;\n",
       "    }\n",
       "\n",
       "    .dataframe tbody tr th {\n",
       "        vertical-align: top;\n",
       "    }\n",
       "\n",
       "    .dataframe thead th {\n",
       "        text-align: right;\n",
       "    }\n",
       "</style>\n",
       "<table border=\"1\" class=\"dataframe\">\n",
       "  <thead>\n",
       "    <tr style=\"text-align: right;\">\n",
       "      <th></th>\n",
       "      <th>BHK</th>\n",
       "      <th>Rent</th>\n",
       "      <th>Size</th>\n",
       "      <th>Bathroom</th>\n",
       "    </tr>\n",
       "  </thead>\n",
       "  <tbody>\n",
       "    <tr>\n",
       "      <th>count</th>\n",
       "      <td>4746.000000</td>\n",
       "      <td>4.746000e+03</td>\n",
       "      <td>4746.000000</td>\n",
       "      <td>4739.000000</td>\n",
       "    </tr>\n",
       "    <tr>\n",
       "      <th>mean</th>\n",
       "      <td>2.083860</td>\n",
       "      <td>3.499345e+04</td>\n",
       "      <td>967.490729</td>\n",
       "      <td>1.967293</td>\n",
       "    </tr>\n",
       "    <tr>\n",
       "      <th>std</th>\n",
       "      <td>0.832256</td>\n",
       "      <td>7.810641e+04</td>\n",
       "      <td>634.202328</td>\n",
       "      <td>0.884405</td>\n",
       "    </tr>\n",
       "    <tr>\n",
       "      <th>min</th>\n",
       "      <td>1.000000</td>\n",
       "      <td>1.200000e+03</td>\n",
       "      <td>10.000000</td>\n",
       "      <td>1.000000</td>\n",
       "    </tr>\n",
       "    <tr>\n",
       "      <th>25%</th>\n",
       "      <td>2.000000</td>\n",
       "      <td>1.000000e+04</td>\n",
       "      <td>550.000000</td>\n",
       "      <td>1.000000</td>\n",
       "    </tr>\n",
       "    <tr>\n",
       "      <th>50%</th>\n",
       "      <td>2.000000</td>\n",
       "      <td>1.600000e+04</td>\n",
       "      <td>850.000000</td>\n",
       "      <td>2.000000</td>\n",
       "    </tr>\n",
       "    <tr>\n",
       "      <th>75%</th>\n",
       "      <td>3.000000</td>\n",
       "      <td>3.300000e+04</td>\n",
       "      <td>1200.000000</td>\n",
       "      <td>2.000000</td>\n",
       "    </tr>\n",
       "    <tr>\n",
       "      <th>max</th>\n",
       "      <td>6.000000</td>\n",
       "      <td>3.500000e+06</td>\n",
       "      <td>8000.000000</td>\n",
       "      <td>10.000000</td>\n",
       "    </tr>\n",
       "  </tbody>\n",
       "</table>\n",
       "</div>"
      ],
      "text/plain": [
       "               BHK          Rent         Size     Bathroom\n",
       "count  4746.000000  4.746000e+03  4746.000000  4739.000000\n",
       "mean      2.083860  3.499345e+04   967.490729     1.967293\n",
       "std       0.832256  7.810641e+04   634.202328     0.884405\n",
       "min       1.000000  1.200000e+03    10.000000     1.000000\n",
       "25%       2.000000  1.000000e+04   550.000000     1.000000\n",
       "50%       2.000000  1.600000e+04   850.000000     2.000000\n",
       "75%       3.000000  3.300000e+04  1200.000000     2.000000\n",
       "max       6.000000  3.500000e+06  8000.000000    10.000000"
      ]
     },
     "execution_count": 131,
     "metadata": {},
     "output_type": "execute_result"
    }
   ],
   "source": [
    "#gives you a one command easy statistical summary\n",
    "df.describe()"
   ]
  },
  {
   "cell_type": "markdown",
   "metadata": {},
   "source": [
    "Note1: Rent is too high; must delete that row"
   ]
  },
  {
   "cell_type": "markdown",
   "metadata": {},
   "source": [
    "### 2.1 Univariate analysis\n",
    "\n",
    "- Look at one variable\n",
    "- main tools - countplot and displot\n",
    "- countplot for discrete features\n",
    "- dis(t)plot for continuous features"
   ]
  },
  {
   "cell_type": "code",
   "execution_count": 132,
   "metadata": {},
   "outputs": [
    {
     "data": {
      "text/plain": [
       "Index(['Posted On', 'BHK', 'Rent', 'Size', 'Floor', 'Area Type',\n",
       "       'Area Locality', 'City', 'Furnishing Status', 'Tenant Preferred',\n",
       "       'Bathroom', 'Point of Contact'],\n",
       "      dtype='object')"
      ]
     },
     "execution_count": 132,
     "metadata": {},
     "output_type": "execute_result"
    }
   ],
   "source": [
    "df.columns"
   ]
  },
  {
   "cell_type": "code",
   "execution_count": 133,
   "metadata": {},
   "outputs": [
    {
     "data": {
      "text/plain": [
       "<AxesSubplot:xlabel='BHK', ylabel='count'>"
      ]
     },
     "execution_count": 133,
     "metadata": {},
     "output_type": "execute_result"
    },
    {
     "data": {
      "image/png": "[encoded data removed]",
      "text/plain": [
       "<Figure size 432x288 with 1 Axes>"
      ]
     },
     "metadata": {
      "needs_background": "light"
     },
     "output_type": "display_data"
    }
   ],
   "source": [
    "import seaborn as sns\n",
    "#countplot or displot?\n",
    "#countplot for discrete features\n",
    "#displot for continous features\n",
    "sns.countplot(x = 'BHK', data = df)\n",
    "\n",
    "#continuous means that there is a value between 1 and 2\n",
    "#we can treat this as a discrete features\n",
    "\n",
    "#what is the purpose of countplot?\n",
    "#1. we want to understand the behavior (distribution) of our data\n",
    "#2. we want to check any abnormalies"
   ]
  },
  {
   "cell_type": "code",
   "execution_count": 134,
   "metadata": {},
   "outputs": [
    {
     "data": {
      "text/plain": [
       "Index(['Posted On', 'BHK', 'Rent', 'Size', 'Floor', 'Area Type',\n",
       "       'Area Locality', 'City', 'Furnishing Status', 'Tenant Preferred',\n",
       "       'Bathroom', 'Point of Contact'],\n",
       "      dtype='object')"
      ]
     },
     "execution_count": 134,
     "metadata": {},
     "output_type": "execute_result"
    }
   ],
   "source": [
    "df.columns"
   ]
  },
  {
   "cell_type": "code",
   "execution_count": 135,
   "metadata": {},
   "outputs": [
    {
     "data": {
      "text/plain": [
       "<seaborn.axisgrid.FacetGrid at 0x12a07c3a0>"
      ]
     },
     "execution_count": 135,
     "metadata": {},
     "output_type": "execute_result"
    },
    {
     "data": {
      "image/png": "[encoded data removed]",
      "text/plain": [
       "<Figure size 360x360 with 1 Axes>"
      ]
     },
     "metadata": {
      "needs_background": "light"
     },
     "output_type": "display_data"
    }
   ],
   "source": [
    "#let's plot Rent\n",
    "#countplot or displot\n",
    "df['Rent'].unique()\n",
    "\n",
    "#in this case, Rent, theoretically can have 7500.2\n",
    "#so Rent is considered Continuous\n",
    "\n",
    "#i decide to cut 2.5\n",
    "#use masking\n",
    "\n",
    "cond1 = df['Rent'] < 2500000\n",
    "\n",
    "sns.displot(df.Rent[cond1])"
   ]
  },
  {
   "cell_type": "code",
   "execution_count": 136,
   "metadata": {},
   "outputs": [
    {
     "data": {
      "text/plain": [
       "(1200, 3500000, 16000.0, 78106.4129373483)"
      ]
     },
     "execution_count": 136,
     "metadata": {},
     "output_type": "execute_result"
    }
   ],
   "source": [
    "df['Rent'].min(), df['Rent'].max(), df['Rent'].median(), df['Rent'].std()"
   ]
  },
  {
   "cell_type": "code",
   "execution_count": 137,
   "metadata": {},
   "outputs": [
    {
     "data": {
      "text/plain": [
       "(array([1001, 1837]),)"
      ]
     },
     "execution_count": 137,
     "metadata": {},
     "output_type": "execute_result"
    }
   ],
   "source": [
    "#now i come to conclusion that some rows in Rent does not make sense\n",
    "import numpy as np\n",
    "\n",
    "np.where(df['Rent'] > 1000000)"
   ]
  },
  {
   "cell_type": "code",
   "execution_count": 138,
   "metadata": {},
   "outputs": [
    {
     "data": {
      "text/plain": [
       "Posted On                  2022-06-01\n",
       "BHK                                 4\n",
       "Rent                          1200000\n",
       "Size                             5000\n",
       "Floor                     4 out of 15\n",
       "Area Type                 Carpet Area\n",
       "Area Locality                    Juhu\n",
       "City                           Mumbai\n",
       "Furnishing Status      Semi-Furnished\n",
       "Tenant Preferred     Bachelors/Family\n",
       "Bathroom                          4.0\n",
       "Point of Contact        Contact Agent\n",
       "Name: 1001, dtype: object"
      ]
     },
     "execution_count": 138,
     "metadata": {},
     "output_type": "execute_result"
    }
   ],
   "source": [
    "df.iloc[1001]\n",
    "\n",
    "#now you have to ask yourself, which ONE is wrong entry?\n",
    "#relies on domain knowledge - so as a data scientist, you must know your business...\n",
    "\n",
    "#whatever, i gonna delete 1001, 1837"
   ]
  },
  {
   "cell_type": "code",
   "execution_count": 139,
   "metadata": {},
   "outputs": [],
   "source": [
    "#to delete \n",
    "#format: df.drop([indexes], axis=0, inplace=True)\n",
    "#axis = 0 means rows, axis = 1 means columns\n",
    "\n",
    "df.drop([1001, 1837], axis = 0, inplace=True)"
   ]
  },
  {
   "cell_type": "code",
   "execution_count": 140,
   "metadata": {},
   "outputs": [
    {
     "data": {
      "text/plain": [
       "(array([], dtype=int64),)"
      ]
     },
     "execution_count": 140,
     "metadata": {},
     "output_type": "execute_result"
    }
   ],
   "source": [
    "np.where(df['Rent'] > 1000000)"
   ]
  },
  {
   "cell_type": "markdown",
   "metadata": {},
   "source": [
    "### 2.2 Multivariate analysis\n",
    "\n",
    "- Look at two features/labels at the same time\n",
    "- e.g., see how bathrooms affect Rent -> bivariate analysis\n",
    "- e.g., see how size affect Rent\n",
    "- usually, y is label, and x is any given feature\n",
    "- Goal: which factor/features are somehow related to my label, i.e., Rent\n",
    "- `boxplot` : discrete vs. continuous\n",
    "- `scatterplot`: continuous vs. continuous"
   ]
  },
  {
   "cell_type": "code",
   "execution_count": 141,
   "metadata": {},
   "outputs": [
    {
     "data": {
      "text/plain": [
       "Index(['Posted On', 'BHK', 'Rent', 'Size', 'Floor', 'Area Type',\n",
       "       'Area Locality', 'City', 'Furnishing Status', 'Tenant Preferred',\n",
       "       'Bathroom', 'Point of Contact'],\n",
       "      dtype='object')"
      ]
     },
     "execution_count": 141,
     "metadata": {},
     "output_type": "execute_result"
    }
   ],
   "source": [
    "df.columns"
   ]
  },
  {
   "cell_type": "code",
   "execution_count": 142,
   "metadata": {},
   "outputs": [
    {
     "data": {
      "text/plain": [
       "array([ 2.,  1., nan,  3.,  5.,  4.,  6.,  7., 10.])"
      ]
     },
     "execution_count": 142,
     "metadata": {},
     "output_type": "execute_result"
    }
   ],
   "source": [
    "#if i want to see whether bathroom is related to Rent\n",
    "#which plot to use?\n",
    "\n",
    "df['Bathroom'].unique()\n",
    "\n",
    "#theoretically, there is no 0.1 bathroom, so bathroom is discrete\n",
    "#since Rent is continuous\n",
    "#so we use boxplot"
   ]
  },
  {
   "cell_type": "markdown",
   "metadata": {},
   "source": [
    "#for seasoned padawan, try boxenplot\n",
    "sns.boxplot(x = df['Bathroom'], y = df['Rent'])\n",
    "\n",
    "#is there any relationship between bathroom and Rent?"
   ]
  },
  {
   "cell_type": "code",
   "execution_count": 143,
   "metadata": {},
   "outputs": [],
   "source": [
    "#+++++++Note 2:  Bathroom is good feature"
   ]
  },
  {
   "cell_type": "code",
   "execution_count": 144,
   "metadata": {},
   "outputs": [
    {
     "data": {
      "text/plain": [
       "Index(['Posted On', 'BHK', 'Rent', 'Size', 'Floor', 'Area Type',\n",
       "       'Area Locality', 'City', 'Furnishing Status', 'Tenant Preferred',\n",
       "       'Bathroom', 'Point of Contact'],\n",
       "      dtype='object')"
      ]
     },
     "execution_count": 144,
     "metadata": {},
     "output_type": "execute_result"
    }
   ],
   "source": [
    "df.columns"
   ]
  },
  {
   "cell_type": "code",
   "execution_count": 145,
   "metadata": {},
   "outputs": [
    {
     "data": {
      "text/plain": [
       "Mumbai       971\n",
       "Chennai      891\n",
       "Bangalore    885\n",
       "Hyderabad    868\n",
       "Delhi        605\n",
       "Kolkata      524\n",
       "Name: City, dtype: int64"
      ]
     },
     "execution_count": 145,
     "metadata": {},
     "output_type": "execute_result"
    }
   ],
   "source": [
    "df['City'].value_counts()"
   ]
  },
  {
   "cell_type": "code",
   "execution_count": 146,
   "metadata": {},
   "outputs": [
    {
     "data": {
      "text/plain": [
       "<AxesSubplot:xlabel='City', ylabel='Rent'>"
      ]
     },
     "execution_count": 146,
     "metadata": {},
     "output_type": "execute_result"
    },
    {
     "data": {
      "image/png": "[encoded data removed]",
      "text/plain": [
       "<Figure size 432x288 with 1 Axes>"
      ]
     },
     "metadata": {
      "needs_background": "light"
     },
     "output_type": "display_data"
    }
   ],
   "source": [
    "#i am interested whether city affects Rent\n",
    "#so which plot: scatter or box?\n",
    "\n",
    "sns.boxplot(x = df['City'], y = df['Rent'])"
   ]
  },
  {
   "cell_type": "code",
   "execution_count": 147,
   "metadata": {},
   "outputs": [],
   "source": [
    "#Note 2: if you want to use City as feature, you may want to convert\n",
    "#Mumbai and non-Mumbai"
   ]
  },
  {
   "cell_type": "code",
   "execution_count": 148,
   "metadata": {},
   "outputs": [
    {
     "data": {
      "text/plain": [
       "Index(['Posted On', 'BHK', 'Rent', 'Size', 'Floor', 'Area Type',\n",
       "       'Area Locality', 'City', 'Furnishing Status', 'Tenant Preferred',\n",
       "       'Bathroom', 'Point of Contact'],\n",
       "      dtype='object')"
      ]
     },
     "execution_count": 148,
     "metadata": {},
     "output_type": "execute_result"
    }
   ],
   "source": [
    "df.columns"
   ]
  },
  {
   "cell_type": "code",
   "execution_count": 149,
   "metadata": {},
   "outputs": [
    {
     "data": {
      "text/plain": [
       "<AxesSubplot:xlabel='Size', ylabel='Rent'>"
      ]
     },
     "execution_count": 149,
     "metadata": {},
     "output_type": "execute_result"
    },
    {
     "data": {
      "image/png": "[encoded data removed]",
      "text/plain": [
       "<Figure size 432x288 with 1 Axes>"
      ]
     },
     "metadata": {
      "needs_background": "light"
     },
     "output_type": "display_data"
    }
   ],
   "source": [
    "#thereotically, size can be decimals, so size is continuous\n",
    "\n",
    "#so I want to know whether size affects Rent\n",
    "#scatterplot or boxplot?\n",
    "\n",
    "sns.scatterplot(x = df['Size'], y = df['Rent'])"
   ]
  },
  {
   "cell_type": "code",
   "execution_count": 150,
   "metadata": {},
   "outputs": [
    {
     "data": {
      "text/plain": [
       "<AxesSubplot:>"
      ]
     },
     "execution_count": 150,
     "metadata": {},
     "output_type": "execute_result"
    },
    {
     "data": {
      "image/png": "[encoded data removed]",
      "text/plain": [
       "<Figure size 432x288 with 2 Axes>"
      ]
     },
     "metadata": {
      "needs_background": "light"
     },
     "output_type": "display_data"
    }
   ],
   "source": [
    "#since this is tricky, maybe let's try heatmap\n",
    "sns.heatmap(df.corr(), annot=True)  #note that this is only between continuous values"
   ]
  },
  {
   "cell_type": "code",
   "execution_count": 151,
   "metadata": {},
   "outputs": [],
   "source": [
    "#one more thing you have to be careful\n",
    "#if two features (NOT labels) have very high correlation, beware\n",
    "#features MUST NOT have high correlation; we always assume they are independent\n",
    "#if you have two very correlated features, you will fool the model"
   ]
  },
  {
   "cell_type": "code",
   "execution_count": 152,
   "metadata": {},
   "outputs": [],
   "source": [
    "#summary: size, bathroom, bhk - let's say these are best three\n",
    "#but beware: chaky did not comprehensively look at the data"
   ]
  },
  {
   "cell_type": "code",
   "execution_count": 153,
   "metadata": {},
   "outputs": [],
   "source": [
    "#let's try create new column called categorical_size\n",
    "#which 1 means small, 2 means medium, 3 means big\n",
    "#this is just for exercise\n",
    "#it's very commonn in data science so I want to practice"
   ]
  },
  {
   "cell_type": "code",
   "execution_count": 154,
   "metadata": {},
   "outputs": [
    {
     "data": {
      "text/plain": [
       "(966.3176644182125, 850.0, 631.2346642955634)"
      ]
     },
     "execution_count": 154,
     "metadata": {},
     "output_type": "execute_result"
    }
   ],
   "source": [
    "#i want to find the cutting point\n",
    "df['Size'].mean(), df['Size'].median(), df['Size'].std()"
   ]
  },
  {
   "cell_type": "code",
   "execution_count": 155,
   "metadata": {},
   "outputs": [
    {
     "data": {
      "text/plain": [
       "(966.3176644182125, 850.0, 631.2346642955634)"
      ]
     },
     "execution_count": 155,
     "metadata": {},
     "output_type": "execute_result"
    },
    {
     "data": {
      "image/png": "[encoded data removed]",
      "text/plain": [
       "<Figure size 360x360 with 1 Axes>"
      ]
     },
     "metadata": {
      "needs_background": "light"
     },
     "output_type": "display_data"
    }
   ],
   "source": [
    "sns.displot(df.Size)\n",
    "df['Size'].mean(), df['Size'].median(), df['Size'].std()"
   ]
  },
  {
   "cell_type": "code",
   "execution_count": 156,
   "metadata": {},
   "outputs": [
    {
     "data": {
      "text/plain": [
       "(966.3176644182125, 850.0, 631.2346642955634)"
      ]
     },
     "execution_count": 156,
     "metadata": {},
     "output_type": "execute_result"
    }
   ],
   "source": [
    "df['Size'].mean(), df['Size'].median(), df['Size'].std()"
   ]
  },
  {
   "cell_type": "code",
   "execution_count": 157,
   "metadata": {},
   "outputs": [
    {
     "data": {
      "text/plain": [
       "218.76533570443655"
      ]
     },
     "execution_count": 157,
     "metadata": {},
     "output_type": "execute_result"
    }
   ],
   "source": [
    "firstpivot = df['Size'].median() - df['Size'].std()\n",
    "firstpivot\n",
    "\n",
    "#the reason why i minus std is basically following basic distribution rule\n",
    "#the reason why i use median() not mean() is because my dist is not normal"
   ]
  },
  {
   "cell_type": "code",
   "execution_count": 158,
   "metadata": {},
   "outputs": [
    {
     "data": {
      "text/plain": [
       "1481.2346642955636"
      ]
     },
     "execution_count": 158,
     "metadata": {},
     "output_type": "execute_result"
    }
   ],
   "source": [
    "secondpivot = df['Size'].median() + df['Size'].std()\n",
    "secondpivot"
   ]
  },
  {
   "cell_type": "code",
   "execution_count": 159,
   "metadata": {},
   "outputs": [
    {
     "data": {
      "text/plain": [
       "0       False\n",
       "1       False\n",
       "2       False\n",
       "3       False\n",
       "4       False\n",
       "        ...  \n",
       "4741    False\n",
       "4742    False\n",
       "4743    False\n",
       "4744    False\n",
       "4745    False\n",
       "Name: Size, Length: 4744, dtype: bool"
      ]
     },
     "execution_count": 159,
     "metadata": {},
     "output_type": "execute_result"
    }
   ],
   "source": [
    "#group 1: < 218.76....\n",
    "cond1 = df.Size < firstpivot\n",
    "cond1  #basically a list of True and False (can be used to select indexes)"
   ]
  },
  {
   "cell_type": "code",
   "execution_count": 160,
   "metadata": {},
   "outputs": [
    {
     "data": {
      "text/plain": [
       "0        True\n",
       "1        True\n",
       "2        True\n",
       "3        True\n",
       "4        True\n",
       "        ...  \n",
       "4741     True\n",
       "4742    False\n",
       "4743    False\n",
       "4744    False\n",
       "4745     True\n",
       "Name: Size, Length: 4744, dtype: bool"
      ]
     },
     "execution_count": 160,
     "metadata": {},
     "output_type": "execute_result"
    }
   ],
   "source": [
    "#group 2: 218.76... to 1481.234.....\n",
    "cond2 = (df.Size >= firstpivot) & (df.Size <= secondpivot)\n",
    "cond2"
   ]
  },
  {
   "cell_type": "code",
   "execution_count": 161,
   "metadata": {},
   "outputs": [
    {
     "data": {
      "text/plain": [
       "0       False\n",
       "1       False\n",
       "2       False\n",
       "3       False\n",
       "4       False\n",
       "        ...  \n",
       "4741    False\n",
       "4742     True\n",
       "4743     True\n",
       "4744     True\n",
       "4745    False\n",
       "Name: Size, Length: 4744, dtype: bool"
      ]
     },
     "execution_count": 161,
     "metadata": {},
     "output_type": "execute_result"
    }
   ],
   "source": [
    "#so i want to make three groups\n",
    "\n",
    "#group 3: > 1481.234\n",
    "cond3 = df.Size > secondpivot\n",
    "cond3"
   ]
  },
  {
   "cell_type": "code",
   "execution_count": 162,
   "metadata": {},
   "outputs": [],
   "source": [
    "#set all rows meeting \n",
    "# cond1 to 1\n",
    "# cond2 to 2\n",
    "# cond3 to 3\n",
    "\n",
    "#format: df.col[cond1] = 1\n",
    "#create the column, and just set it to 1\n",
    "df['cat_size'] = 1"
   ]
  },
  {
   "cell_type": "code",
   "execution_count": 163,
   "metadata": {},
   "outputs": [],
   "source": [
    "#format: df.loc[row, column]\n",
    "df.loc[cond1, 'cat_size'] = 1"
   ]
  },
  {
   "cell_type": "code",
   "execution_count": 164,
   "metadata": {},
   "outputs": [],
   "source": [
    "df.loc[cond2, 'cat_size'] = 2\n",
    "df.loc[cond3, 'cat_size'] = 3"
   ]
  },
  {
   "cell_type": "code",
   "execution_count": 165,
   "metadata": {},
   "outputs": [
    {
     "data": {
      "text/plain": [
       "array([2, 3, 1])"
      ]
     },
     "execution_count": 165,
     "metadata": {},
     "output_type": "execute_result"
    }
   ],
   "source": [
    "df.cat_size.unique()"
   ]
  },
  {
   "cell_type": "code",
   "execution_count": 166,
   "metadata": {},
   "outputs": [
    {
     "data": {
      "text/plain": [
       "<AxesSubplot:xlabel='cat_size', ylabel='Rent'>"
      ]
     },
     "execution_count": 166,
     "metadata": {},
     "output_type": "execute_result"
    },
    {
     "data": {
      "image/png": "[encoded data removed]",
      "text/plain": [
       "<Figure size 432x288 with 1 Axes>"
      ]
     },
     "metadata": {
      "needs_background": "light"
     },
     "output_type": "display_data"
    }
   ],
   "source": [
    "#try to plot and see whether categorical size has an effect with Rent\n",
    "\n",
    "#which plot i use: boxplot or scatterplot?\n",
    "\n",
    "sns.boxplot(x = df['cat_size'], y = df['Rent'])\n",
    "\n",
    "#the concept in which we create new features using existing features\n",
    "#are called \"feature engineering\"\n",
    "\n",
    "#maybe the idea is try to separate the category even more\n",
    "#very small, small, medium, big, very big\n",
    "\n",
    "#conclusion: i hope that using the continuous Size, can be better\n",
    "#if my model is smart"
   ]
  },
  {
   "cell_type": "code",
   "execution_count": 167,
   "metadata": {},
   "outputs": [
    {
     "data": {
      "text/plain": [
       "Index(['Posted On', 'BHK', 'Rent', 'Size', 'Floor', 'Area Type',\n",
       "       'Area Locality', 'City', 'Furnishing Status', 'Tenant Preferred',\n",
       "       'Bathroom', 'Point of Contact', 'cat_size'],\n",
       "      dtype='object')"
      ]
     },
     "execution_count": 167,
     "metadata": {},
     "output_type": "execute_result"
    }
   ],
   "source": [
    "df.columns"
   ]
  },
  {
   "cell_type": "code",
   "execution_count": 168,
   "metadata": {},
   "outputs": [
    {
     "data": {
      "text/plain": [
       "array(['Unfurnished', 'Semi-Furnished', 'Furnished'], dtype=object)"
      ]
     },
     "execution_count": 168,
     "metadata": {},
     "output_type": "execute_result"
    }
   ],
   "source": [
    "df['Furnishing Status'].unique()"
   ]
  },
  {
   "cell_type": "code",
   "execution_count": 169,
   "metadata": {},
   "outputs": [],
   "source": [
    "#you need to convert this to integers for machine learning\n",
    "#1. label encoding \n",
    "#2. one-hot encoding\n",
    "\n",
    "#since we have three categories, we gonna use one-hot encoding\n",
    "#pd.get_dummies\n",
    "#   it will take the value, and use it as column\n",
    "\n",
    "#last time, the command you use is LabelEncoder()"
   ]
  },
  {
   "cell_type": "code",
   "execution_count": 170,
   "metadata": {},
   "outputs": [],
   "source": [
    "#conclusion of EDA:\n",
    "\n",
    "#1. we remove some outliers from Rent\n",
    "#2. we found bathroom, size, and bhk to be promising features\n",
    "#3. we learn how to group and perform feature engineering"
   ]
  },
  {
   "cell_type": "markdown",
   "metadata": {},
   "source": [
    "### Part 3. Feature Extraction / Selection\n",
    "\n",
    "- you have to now select your X and y\n",
    "- once you select, please do train_test_split\n",
    "\n",
    "Note: the reason why I do feature extraction before preprocessing, is to prevent data leakage\n",
    "\n",
    "15:25 - 15:45"
   ]
  },
  {
   "cell_type": "code",
   "execution_count": 171,
   "metadata": {},
   "outputs": [],
   "source": [
    "X = df[ ['Size', 'Bathroom', 'BHK']  ] #if not, you will NOT get a shape of (m, n)\n",
    "y = df['Rent'] #shape must be (m, )\n",
    "\n",
    "#this is to make sure my X is shape (m, n)\n",
    "#where m is number of rows\n",
    "#and n is number of columns\n",
    "assert X.shape[0] > 0\n",
    "assert X.shape[1] > 0\n",
    "\n",
    "assert y.shape[0] > 0\n",
    "assert y.ndim == 1"
   ]
  },
  {
   "cell_type": "code",
   "execution_count": 172,
   "metadata": {},
   "outputs": [],
   "source": [
    "from sklearn.model_selection import train_test_split\n",
    "\n",
    "#random state: you can choose whatever number you want\n",
    "#but this will ensure today or tomorrow, you will ALWAYS get the same split\n",
    "#for the same random state\n",
    "#so we can compare our results\n",
    "X_train, X_test, y_train, y_test = train_test_split(X, y, test_size = 0.3, \n",
    "                                                    random_state=999)\n",
    "\n",
    "#can try to write some assert test"
   ]
  },
  {
   "cell_type": "code",
   "execution_count": 173,
   "metadata": {},
   "outputs": [],
   "source": [
    "assert X_train.shape[0] == int(X.shape[0] * 0.7)\n",
    "#i am not gonna do all!"
   ]
  },
  {
   "cell_type": "code",
   "execution_count": 174,
   "metadata": {},
   "outputs": [
    {
     "name": "stdout",
     "output_type": "stream",
     "text": [
      "<class 'pandas.core.frame.DataFrame'>\n",
      "Int64Index: 3320 entries, 4292 to 4446\n",
      "Data columns (total 3 columns):\n",
      " #   Column    Non-Null Count  Dtype  \n",
      "---  ------    --------------  -----  \n",
      " 0   Size      3320 non-null   int64  \n",
      " 1   Bathroom  3316 non-null   float64\n",
      " 2   BHK       3320 non-null   int64  \n",
      "dtypes: float64(1), int64(2)\n",
      "memory usage: 103.8 KB\n",
      "<class 'pandas.core.series.Series'>\n",
      "Int64Index: 3320 entries, 4292 to 4446\n",
      "Series name: Rent\n",
      "Non-Null Count  Dtype\n",
      "--------------  -----\n",
      "3320 non-null   int64\n",
      "dtypes: int64(1)\n",
      "memory usage: 51.9 KB\n"
     ]
    }
   ],
   "source": [
    "#one last thing to do, i.e., ensure no datatype \"object\"\n",
    "X_train.info()\n",
    "y_train.info()"
   ]
  },
  {
   "cell_type": "markdown",
   "metadata": {},
   "source": [
    "### Part 4: Cleaning / Preprocessing\n",
    "\n",
    "- We always preprocess AFTER splitting, to prevent data leakage\n",
    "\n",
    "1. Fill the missing values if any\n",
    "2. Standardize the data!"
   ]
  },
  {
   "cell_type": "markdown",
   "metadata": {},
   "source": [
    "There are two ways:\n",
    "\n",
    "1. Fill - Standardize\n",
    "2. Standardize - Fill\n",
    "\n",
    "--> If you fill with mean(), these two ways are the same\n",
    "--> if you fill with median(), it's best to do Fill - Standardize"
   ]
  },
  {
   "cell_type": "code",
   "execution_count": 175,
   "metadata": {},
   "outputs": [],
   "source": [
    "# data = np.array([1, 2, 3, 4, 6])  #assume missing data in 5\n",
    "\n",
    "# data.mean()\n",
    "# np.median(data)"
   ]
  },
  {
   "cell_type": "code",
   "execution_count": 176,
   "metadata": {},
   "outputs": [],
   "source": [
    "# #replace the missing value\n",
    "# data = np.array([1, 2, 3, 4, 3.2, 6])"
   ]
  },
  {
   "cell_type": "code",
   "execution_count": 177,
   "metadata": {},
   "outputs": [],
   "source": [
    "# mean = data.mean()\n",
    "# std  = data.std()\n",
    "# for i, num in enumerate(data):\n",
    "#     data[i] = (data[i] - mean) / std\n",
    "    \n",
    "# data\n",
    "\n",
    "#++++Note: you can also use broadcasting (much elegant):  data = (data - data.mean()) / data.std()"
   ]
  },
  {
   "cell_type": "code",
   "execution_count": 178,
   "metadata": {},
   "outputs": [],
   "source": [
    "# np.median(data)"
   ]
  },
  {
   "cell_type": "markdown",
   "metadata": {},
   "source": [
    "### 4.1 Filling with missing values"
   ]
  },
  {
   "cell_type": "code",
   "execution_count": 179,
   "metadata": {},
   "outputs": [
    {
     "data": {
      "text/plain": [
       "Size        0\n",
       "Bathroom    4\n",
       "BHK         0\n",
       "dtype: int64"
      ]
     },
     "execution_count": 179,
     "metadata": {},
     "output_type": "execute_result"
    }
   ],
   "source": [
    "X_train.isna().sum()"
   ]
  },
  {
   "cell_type": "code",
   "execution_count": 180,
   "metadata": {},
   "outputs": [
    {
     "data": {
      "text/plain": [
       "Size        0\n",
       "Bathroom    3\n",
       "BHK         0\n",
       "dtype: int64"
      ]
     },
     "execution_count": 180,
     "metadata": {},
     "output_type": "execute_result"
    }
   ],
   "source": [
    "X_test.isna().sum()"
   ]
  },
  {
   "cell_type": "code",
   "execution_count": 181,
   "metadata": {},
   "outputs": [
    {
     "data": {
      "text/plain": [
       "0"
      ]
     },
     "execution_count": 181,
     "metadata": {},
     "output_type": "execute_result"
    }
   ],
   "source": [
    "y_train.isna().sum()"
   ]
  },
  {
   "cell_type": "code",
   "execution_count": 182,
   "metadata": {},
   "outputs": [
    {
     "data": {
      "text/plain": [
       "0"
      ]
     },
     "execution_count": 182,
     "metadata": {},
     "output_type": "execute_result"
    }
   ],
   "source": [
    "y_test.isna().sum()"
   ]
  },
  {
   "cell_type": "code",
   "execution_count": 183,
   "metadata": {},
   "outputs": [
    {
     "name": "stderr",
     "output_type": "stream",
     "text": [
      "<ipython-input-183-9ac91ea49d43>:11: SettingWithCopyWarning: \n",
      "A value is trying to be set on a copy of a slice from a DataFrame\n",
      "\n",
      "See the caveats in the documentation: https://pandas.pydata.org/pandas-docs/stable/user_guide/indexing.html#returning-a-view-versus-a-copy\n",
      "  X_train['Bathroom'].fillna(2.0, inplace=True)\n"
     ]
    }
   ],
   "source": [
    "#to fix the bathroom\n",
    "\n",
    "#1. plot the distribution / count\n",
    "X_train['Bathroom'].value_counts()\n",
    "\n",
    "#2. show the median, or the mean if continuous values\n",
    "#2. show the majority if discrete values\n",
    "    #actually, you can fill such that the ratio is maintained\n",
    "\n",
    "#3. fillna\n",
    "X_train['Bathroom'].fillna(2.0, inplace=True)"
   ]
  },
  {
   "cell_type": "code",
   "execution_count": 184,
   "metadata": {},
   "outputs": [
    {
     "data": {
      "text/plain": [
       "0"
      ]
     },
     "execution_count": 184,
     "metadata": {},
     "output_type": "execute_result"
    }
   ],
   "source": [
    "X_train['Bathroom'].isna().sum()"
   ]
  },
  {
   "cell_type": "code",
   "execution_count": 185,
   "metadata": {},
   "outputs": [
    {
     "name": "stderr",
     "output_type": "stream",
     "text": [
      "<ipython-input-185-278d6d44a317>:4: SettingWithCopyWarning: \n",
      "A value is trying to be set on a copy of a slice from a DataFrame\n",
      "\n",
      "See the caveats in the documentation: https://pandas.pydata.org/pandas-docs/stable/user_guide/indexing.html#returning-a-view-versus-a-copy\n",
      "  X_test['Bathroom'].fillna(2.0, inplace=True)\n"
     ]
    },
    {
     "data": {
      "text/plain": [
       "0"
      ]
     },
     "execution_count": 185,
     "metadata": {},
     "output_type": "execute_result"
    }
   ],
   "source": [
    "#you have fillna for test\n",
    "#what to fill???\n",
    "#you fill the testing set with the statistics of the training set\n",
    "X_test['Bathroom'].fillna(2.0, inplace=True)\n",
    "\n",
    "X_test['Bathroom'].isna().sum()"
   ]
  },
  {
   "cell_type": "markdown",
   "metadata": {},
   "source": [
    "### 4.2 Standardizing"
   ]
  },
  {
   "cell_type": "code",
   "execution_count": 186,
   "metadata": {},
   "outputs": [],
   "source": [
    "from sklearn.preprocessing import StandardScaler"
   ]
  },
  {
   "cell_type": "code",
   "execution_count": 187,
   "metadata": {},
   "outputs": [],
   "source": [
    "#1. create the object\n",
    "sc = StandardScaler()\n",
    "\n",
    "#2. fit and transform the training set\n",
    "X_train = sc.fit_transform(X_train)\n",
    "\n",
    "#3. transform the testing set\n",
    "X_test  = sc.transform(X_test)"
   ]
  },
  {
   "cell_type": "code",
   "execution_count": 188,
   "metadata": {},
   "outputs": [
    {
     "data": {
      "text/plain": [
       "(0.9999999999999999, 1.0, 1.0)"
      ]
     },
     "execution_count": 188,
     "metadata": {},
     "output_type": "execute_result"
    }
   ],
   "source": [
    "X_train[:, 0].std(), X_train[:, 1].std(), X_train[:, 2].std()"
   ]
  },
  {
   "cell_type": "code",
   "execution_count": 189,
   "metadata": {},
   "outputs": [
    {
     "data": {
      "text/plain": [
       "(1.008823326038675, 1.0002554196921853, 1.0038160526618698)"
      ]
     },
     "execution_count": 189,
     "metadata": {},
     "output_type": "execute_result"
    }
   ],
   "source": [
    "X_test[:, 0].std(), X_test[:, 1].std(), X_test[:, 2].std()"
   ]
  }
 ],
 "metadata": {
  "kernelspec": {
   "display_name": "Python 3.10.7 64-bit (microsoft store)",
   "language": "python",
   "name": "python3"
  },
  "language_info": {
   "codemirror_mode": {
    "name": "ipython",
    "version": 3
   },
   "file_extension": ".py",
   "mimetype": "text/x-python",
   "name": "python",
   "nbconvert_exporter": "python",
   "pygments_lexer": "ipython3",
   "version": "3.10.7"
  },
  "orig_nbformat": 4,
  "vscode": {
   "interpreter": {
    "hash": "a59b473075a889197cef78f691a8dde253fc9cd06ebdea22432c59d124001e4e"
   }
  }
 },
 "nbformat": 4,
 "nbformat_minor": 2
}
